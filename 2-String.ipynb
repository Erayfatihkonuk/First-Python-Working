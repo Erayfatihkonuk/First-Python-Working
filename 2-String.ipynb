{
 "cells": [
  {
   "cell_type": "markdown",
   "id": "1f66caef-c63d-4f4e-a802-9395962ed6ba",
   "metadata": {},
   "source": [
    "13. DERSTE ARTIK METİNLERLE STRING İLE UĞRAŞACAĞIZ "
   ]
  },
  {
   "cell_type": "code",
   "execution_count": 1,
   "id": "da59f034-5a0a-4935-a83d-3ed621582f24",
   "metadata": {},
   "outputs": [
    {
     "ename": "SyntaxError",
     "evalue": "invalid syntax (3062837202.py, line 1)",
     "output_type": "error",
     "traceback": [
      "\u001b[1;36m  Cell \u001b[1;32mIn[1], line 1\u001b[1;36m\u001b[0m\n\u001b[1;33m    hello world\u001b[0m\n\u001b[1;37m          ^\u001b[0m\n\u001b[1;31mSyntaxError\u001b[0m\u001b[1;31m:\u001b[0m invalid syntax\n"
     ]
    }
   ],
   "source": [
    "hello world \n"
   ]
  },
  {
   "cell_type": "code",
   "execution_count": 2,
   "id": "fd0d4c1c-8968-41dc-b815-91ed68fb9478",
   "metadata": {},
   "outputs": [
    {
     "data": {
      "text/plain": [
       "'hello world'"
      ]
     },
     "execution_count": 2,
     "metadata": {},
     "output_type": "execute_result"
    }
   ],
   "source": [
    "\"hello world\""
   ]
  },
  {
   "cell_type": "code",
   "execution_count": 3,
   "id": "610046e3-a25f-4aab-8834-bf89f1be39bd",
   "metadata": {},
   "outputs": [
    {
     "name": "stdout",
     "output_type": "stream",
     "text": [
      "hello python\n"
     ]
    }
   ],
   "source": [
    "print(\"hello python\")"
   ]
  },
  {
   "cell_type": "code",
   "execution_count": 10,
   "id": "1477c39b-f5aa-4744-abfa-a5992722abe4",
   "metadata": {},
   "outputs": [],
   "source": [
    "name = \"erayfatih\""
   ]
  },
  {
   "cell_type": "code",
   "execution_count": 11,
   "id": "a012df3c-58d1-4dfc-8813-e9bb9c0f8327",
   "metadata": {},
   "outputs": [
    {
     "data": {
      "text/plain": [
       "str"
      ]
     },
     "execution_count": 11,
     "metadata": {},
     "output_type": "execute_result"
    }
   ],
   "source": [
    "type(name)"
   ]
  },
  {
   "cell_type": "code",
   "execution_count": 16,
   "id": "87a1fd19-89bf-4931-af1b-8dcd9ff41b91",
   "metadata": {},
   "outputs": [
    {
     "data": {
      "text/plain": [
       "'Erayfatih'"
      ]
     },
     "execution_count": 16,
     "metadata": {},
     "output_type": "execute_result"
    }
   ],
   "source": [
    "name.capitalize() #buradaki sonraki () işareti aslında kodu çalıştır anlamına geliyor ve capitalize ifadesi bizim name değişkenimizin baş harfini büyütüyor. Ve baştaki name. bizim name değişkenimizin yapabileceği şeyleri gösteriyor.\n"
   ]
  },
  {
   "cell_type": "code",
   "execution_count": 17,
   "id": "beebc1f6-257a-4ae9-b55f-c8b182bb112f",
   "metadata": {},
   "outputs": [
    {
     "data": {
      "text/plain": [
       "'erayfatih'"
      ]
     },
     "execution_count": 17,
     "metadata": {},
     "output_type": "execute_result"
    }
   ],
   "source": [
    "name.casefold()"
   ]
  },
  {
   "cell_type": "code",
   "execution_count": 19,
   "id": "0978012e-766b-45c5-95b0-d6a6be412e01",
   "metadata": {},
   "outputs": [
    {
     "data": {
      "text/plain": [
       "'erayfatih'"
      ]
     },
     "execution_count": 19,
     "metadata": {},
     "output_type": "execute_result"
    }
   ],
   "source": [
    "name"
   ]
  },
  {
   "cell_type": "code",
   "execution_count": 21,
   "id": "f5b992e3-a9ff-4d68-a7ae-3d2e027fb126",
   "metadata": {},
   "outputs": [
    {
     "name": "stdout",
     "output_type": "stream",
     "text": [
      "Help on built-in function count:\n",
      "\n",
      "count(...) method of builtins.str instance\n",
      "    S.count(sub[, start[, end]]) -> int\n",
      "    \n",
      "    Return the number of non-overlapping occurrences of substring sub in\n",
      "    string S[start:end].  Optional arguments start and end are\n",
      "    interpreted as in slice notation.\n",
      "\n"
     ]
    }
   ],
   "source": [
    "help(name.count)\n"
   ]
  },
  {
   "cell_type": "code",
   "execution_count": 22,
   "id": "7ce017ec-bc79-4ffe-86c7-cfa923809c6b",
   "metadata": {},
   "outputs": [
    {
     "data": {
      "text/plain": [
       "2"
      ]
     },
     "execution_count": 22,
     "metadata": {},
     "output_type": "execute_result"
    }
   ],
   "source": [
    "name.count(\"a\")"
   ]
  },
  {
   "cell_type": "code",
   "execution_count": 23,
   "id": "7acd5bf5-bd31-4cbc-9cdf-a7c9d13a836b",
   "metadata": {},
   "outputs": [
    {
     "name": "stdout",
     "output_type": "stream",
     "text": [
      "Help on built-in function endswith:\n",
      "\n",
      "endswith(...) method of builtins.str instance\n",
      "    S.endswith(suffix[, start[, end]]) -> bool\n",
      "    \n",
      "    Return True if S ends with the specified suffix, False otherwise.\n",
      "    With optional start, test S beginning at that position.\n",
      "    With optional end, stop comparing S at that position.\n",
      "    suffix can also be a tuple of strings to try.\n",
      "\n"
     ]
    }
   ],
   "source": [
    "help(name.endswith)"
   ]
  },
  {
   "cell_type": "code",
   "execution_count": 25,
   "id": "7e1e33ff-ac60-43c0-a571-44fe71f2e568",
   "metadata": {},
   "outputs": [
    {
     "data": {
      "text/plain": [
       "<function str.endswith>"
      ]
     },
     "execution_count": 25,
     "metadata": {},
     "output_type": "execute_result"
    }
   ],
   "source": [
    "name.endswith"
   ]
  },
  {
   "cell_type": "code",
   "execution_count": 27,
   "id": "c92f948f-b688-4532-a2b7-eca05bafbe1c",
   "metadata": {},
   "outputs": [],
   "source": [
    "x=10\n",
    "y=5"
   ]
  },
  {
   "cell_type": "code",
   "execution_count": 28,
   "id": "a0cdfc3f-392a-49cf-aa71-fc051742dac0",
   "metadata": {},
   "outputs": [
    {
     "data": {
      "text/plain": [
       "15"
      ]
     },
     "execution_count": 28,
     "metadata": {},
     "output_type": "execute_result"
    }
   ],
   "source": [
    "x+y"
   ]
  },
  {
   "cell_type": "code",
   "execution_count": 29,
   "id": "8d592e97-a17e-4f19-9417-1aec2f679757",
   "metadata": {},
   "outputs": [],
   "source": [
    "z=x+y"
   ]
  },
  {
   "cell_type": "code",
   "execution_count": 30,
   "id": "2d76d8ab-c16a-41d1-94e7-c33e55d16631",
   "metadata": {},
   "outputs": [
    {
     "data": {
      "text/plain": [
       "15"
      ]
     },
     "execution_count": 30,
     "metadata": {},
     "output_type": "execute_result"
    }
   ],
   "source": [
    "z"
   ]
  },
  {
   "cell_type": "code",
   "execution_count": 31,
   "id": "34cd0b3f-9b72-4f0f-8d49-0c4a424657a8",
   "metadata": {},
   "outputs": [],
   "source": [
    "nameUpper = name.upper()"
   ]
  },
  {
   "cell_type": "code",
   "execution_count": 32,
   "id": "8753cf7d-e22f-4060-93a4-eeccad834db3",
   "metadata": {},
   "outputs": [
    {
     "data": {
      "text/plain": [
       "'ERAYFATIH'"
      ]
     },
     "execution_count": 32,
     "metadata": {},
     "output_type": "execute_result"
    }
   ],
   "source": [
    "nameUpper"
   ]
  },
  {
   "cell_type": "code",
   "execution_count": 33,
   "id": "35d0a2c6-9e1d-4f8d-b789-083825156d96",
   "metadata": {},
   "outputs": [
    {
     "name": "stdout",
     "output_type": "stream",
     "text": [
      "ERAYFATIH\n"
     ]
    }
   ],
   "source": [
    "print(name.upper())"
   ]
  },
  {
   "cell_type": "code",
   "execution_count": 36,
   "id": "5f6ee090-3b23-4fc5-9634-47e977f9b549",
   "metadata": {},
   "outputs": [
    {
     "data": {
      "text/plain": [
       "9"
      ]
     },
     "execution_count": 36,
     "metadata": {},
     "output_type": "execute_result"
    }
   ],
   "source": [
    "len(name) # name değişkenimizin uzunluğu yani aslında karakter sayısı ve bu karakterleri sayarken boşukları da bir karakter olarak algılıyor."
   ]
  },
  {
   "cell_type": "code",
   "execution_count": 37,
   "id": "8f97f5b3-4b63-43c1-8047-bc077e9009fd",
   "metadata": {},
   "outputs": [
    {
     "name": "stdout",
     "output_type": "stream",
     "text": [
      "eray fatih\n"
     ]
    }
   ],
   "source": [
    "print(\"eray fatih\")"
   ]
  },
  {
   "cell_type": "code",
   "execution_count": 38,
   "id": "6dbecc2c-1e8b-459c-a302-99e94585f067",
   "metadata": {},
   "outputs": [
    {
     "name": "stdout",
     "output_type": "stream",
     "text": [
      "eray \n",
      "fatih\n"
     ]
    }
   ],
   "source": [
    "print(\"eray \\nfatih\")"
   ]
  },
  {
   "cell_type": "code",
   "execution_count": 39,
   "id": "9042e743-f69b-4a10-8e50-1ebd049575b6",
   "metadata": {},
   "outputs": [],
   "source": [
    "#\\n -> new line anlamına geliyor yani alt satıra geç demek"
   ]
  },
  {
   "cell_type": "code",
   "execution_count": 40,
   "id": "d8ca3094-aef9-4709-b0ee-9c26552db56d",
   "metadata": {},
   "outputs": [],
   "source": [
    "#bunlara escape characters deniyor yani kaçış karakterleri"
   ]
  },
  {
   "cell_type": "code",
   "execution_count": 41,
   "id": "7641783d-d2a5-4f71-aa8b-1c9787935d37",
   "metadata": {},
   "outputs": [],
   "source": [
    "# \\t -> tab yani eray ile fatih kelimeleri arasına bir tab boşluk koyuyor "
   ]
  },
  {
   "cell_type": "code",
   "execution_count": 46,
   "id": "e1fa36e1-3142-460d-b373-1614e09306e6",
   "metadata": {},
   "outputs": [
    {
     "name": "stdout",
     "output_type": "stream",
     "text": [
      "eray \tfatih\n"
     ]
    }
   ],
   "source": [
    "print(\"eray \\tfatih\")"
   ]
  },
  {
   "cell_type": "markdown",
   "id": "0ef183ff-bcf7-49ca-9dbb-f4619fb7fed3",
   "metadata": {},
   "source": [
    "burada index olayını anlayacağız index dediğimiz şey aslında hello python gibi bir şey yazdığımızda python bunu h e l  l o  p y t h o n gibi ayrı ayrı indexlerde hafızasında tuttuğunu söyler."
   ]
  },
  {
   "cell_type": "markdown",
   "id": "7559a6fe-5c9f-411e-bf6a-a4d6c27267fa",
   "metadata": {},
   "source": [
    "# index"
   ]
  },
  {
   "cell_type": "code",
   "execution_count": 44,
   "id": "01e930d8-201a-4d53-babd-c39af48b07b7",
   "metadata": {},
   "outputs": [],
   "source": [
    "myString = \"hello python\"\n"
   ]
  },
  {
   "cell_type": "code",
   "execution_count": 50,
   "id": "25ae062e-c55a-4949-959e-e4f42e1b1fba",
   "metadata": {},
   "outputs": [
    {
     "data": {
      "text/plain": [
       "'o'"
      ]
     },
     "execution_count": 50,
     "metadata": {},
     "output_type": "execute_result"
    }
   ],
   "source": [
    "myString[4]"
   ]
  },
  {
   "cell_type": "code",
   "execution_count": 52,
   "id": "ea0f8bd3-fae4-4b60-9f12-2aad3444fdb7",
   "metadata": {},
   "outputs": [
    {
     "data": {
      "text/plain": [
       "'n'"
      ]
     },
     "execution_count": 52,
     "metadata": {},
     "output_type": "execute_result"
    }
   ],
   "source": [
    "myString[11]"
   ]
  },
  {
   "cell_type": "code",
   "execution_count": null,
   "id": "8ad94a6f-2605-4029-bb78-fbf9ffde7c0e",
   "metadata": {},
   "outputs": [],
   "source": []
  }
 ],
 "metadata": {
  "kernelspec": {
   "display_name": "Python 3 (ipykernel)",
   "language": "python",
   "name": "python3"
  },
  "language_info": {
   "codemirror_mode": {
    "name": "ipython",
    "version": 3
   },
   "file_extension": ".py",
   "mimetype": "text/x-python",
   "name": "python",
   "nbconvert_exporter": "python",
   "pygments_lexer": "ipython3",
   "version": "3.11.7"
  }
 },
 "nbformat": 4,
 "nbformat_minor": 5
}
