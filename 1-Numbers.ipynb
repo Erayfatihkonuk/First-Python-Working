{
 "cells": [
  {
   "cell_type": "code",
   "execution_count": 1,
   "id": "1b4af276-bdbf-4af7-86bb-9be15af0899c",
   "metadata": {
    "scrolled": true
   },
   "outputs": [
    {
     "data": {
      "text/plain": [
       "8"
      ]
     },
     "execution_count": 1,
     "metadata": {},
     "output_type": "execute_result"
    }
   ],
   "source": [
    "3+5"
   ]
  },
  {
   "cell_type": "markdown",
   "id": "b8c9909d-e866-4850-a1d5-3cf7bf5f6b05",
   "metadata": {},
   "source": [
    "BURADA DEĞİŞKENLERİ KULLANMAYA BAŞLAYAVCAĞIZ\n",
    "VARIABLES\n"
   ]
  },
  {
   "cell_type": "code",
   "execution_count": 5,
   "id": "71a67ca5-9370-4ee1-a4e3-3718e0487c80",
   "metadata": {},
   "outputs": [
    {
     "data": {
      "text/plain": [
       "225.0"
      ]
     },
     "execution_count": 5,
     "metadata": {},
     "output_type": "execute_result"
    }
   ],
   "source": [
    "900/4"
   ]
  },
  {
   "cell_type": "code",
   "execution_count": 6,
   "id": "f9f29fd6-c8e0-4abb-94b9-ebc5e08101d5",
   "metadata": {},
   "outputs": [
    {
     "data": {
      "text/plain": [
       "128.57142857142858"
      ]
     },
     "execution_count": 6,
     "metadata": {},
     "output_type": "execute_result"
    }
   ],
   "source": [
    "900/7"
   ]
  },
  {
   "cell_type": "code",
   "execution_count": 7,
   "id": "33cdc252-5f73-4a18-bd52-b93d6f1b57a6",
   "metadata": {},
   "outputs": [
    {
     "data": {
      "text/plain": [
       "-90"
      ]
     },
     "execution_count": 7,
     "metadata": {},
     "output_type": "execute_result"
    }
   ],
   "source": [
    "10-100"
   ]
  },
  {
   "cell_type": "markdown",
   "id": "47494ce5-89bc-4292-b33a-645b3dc13bb7",
   "metadata": {},
   "source": [
    "5+5+5+5+5 ARAYA HİÇ BOŞLUK BIRAKMADAN DA 4 İŞLEM YAPILABİLİR MESELA AŞAĞIDAKİ GİBİ\n"
   ]
  },
  {
   "cell_type": "code",
   "execution_count": null,
   "id": "e4821b11-2c86-43b8-8293-778cd53cdd7f",
   "metadata": {},
   "outputs": [],
   "source": [
    "5*5*5*5*5"
   ]
  },
  {
   "cell_type": "markdown",
   "id": "090c9328-755c-4e0a-aa2b-f604b6313993",
   "metadata": {},
   "source": [
    "AMA TAB2 BOŞLUK BIRAKILARAK DA YAPILABİLİR"
   ]
  },
  {
   "cell_type": "code",
   "execution_count": 14,
   "id": "2c0cd2e3-31aa-4a75-9d31-d9674984dd4c",
   "metadata": {},
   "outputs": [
    {
     "data": {
      "text/plain": [
       "3125"
      ]
     },
     "execution_count": 14,
     "metadata": {},
     "output_type": "execute_result"
    }
   ],
   "source": [
    "5 * 5 * 5 * 5 * 5"
   ]
  },
  {
   "cell_type": "markdown",
   "id": "bf4ffb5d-4acd-41ce-977e-2cf2c20810b0",
   "metadata": {},
   "source": [
    "GENEL OLARAK MATEMATİĞİ KULLANIRIZ ONUN İÇİN BÖYLE BAŞLADIK. ŞİMDİ DE PROGRAM TÜRÜNE GEÇMEYE BAŞLAYALIM.\n",
    "ÖRNEĞİN YAŞIMI ALIP 2'YE BÖLMEK İSTİYORUM YA DA BİR İNTERNET SİTESİNDEN BİLGİ ALMAK İSTİYORUM\n"
   ]
  },
  {
   "cell_type": "code",
   "execution_count": 20,
   "id": "4ae061db-f1e7-4df1-83d1-c03f1e9a8e43",
   "metadata": {},
   "outputs": [],
   "source": [
    "age = 50"
   ]
  },
  {
   "cell_type": "markdown",
   "id": "a13033e2-42fc-49da-9c9e-6f4c07c37e67",
   "metadata": {},
   "source": [
    "age İSİMLİ BU DEĞİŞKEN ARTIK YAŞIMI TEMSİL EDİYOR YANİ İLERİDE HER age YAZDIĞIMDA ONU 50 SAYISI OLARAK ALGILAYACAK YANİ BİR DEĞİŞKEN OLARAK DAVRANACAK."
   ]
  },
  {
   "cell_type": "code",
   "execution_count": 21,
   "id": "47f10de4-fc52-48fa-99f6-af2888416385",
   "metadata": {},
   "outputs": [
    {
     "data": {
      "text/plain": [
       "50"
      ]
     },
     "execution_count": 21,
     "metadata": {},
     "output_type": "execute_result"
    }
   ],
   "source": [
    "age "
   ]
  },
  {
   "cell_type": "code",
   "execution_count": 22,
   "id": "8002f696-24c7-4754-8129-82c66bf85d87",
   "metadata": {},
   "outputs": [
    {
     "data": {
      "text/plain": [
       "250"
      ]
     },
     "execution_count": 22,
     "metadata": {},
     "output_type": "execute_result"
    }
   ],
   "source": [
    "age * 5 "
   ]
  },
  {
   "cell_type": "markdown",
   "id": "3295808d-6b36-4f87-b1cc-ecb4dde5b9b1",
   "metadata": {},
   "source": [
    "VERİ TİPİNİN 'DATA TYPE' IN NE OLDUĞUNU ANLAYALIM"
   ]
  },
  {
   "cell_type": "code",
   "execution_count": 23,
   "id": "f2bfda77-7a63-4222-8887-da80df7faf50",
   "metadata": {},
   "outputs": [],
   "source": [
    "# data type"
   ]
  },
  {
   "cell_type": "markdown",
   "id": "104381e7-6bfb-4294-b0a6-81cb304e5cd8",
   "metadata": {},
   "source": [
    "BURADAKİ # İŞARETİ YORUM SATIRI OLARAK ALGLANIYOR VE # DEN SONRA GELECEK OLAN HİÇBİR KODU KOD OLARAK ALGILAYIP ÇALIŞTIRMAZ SADECE YORUM OLARAK ALGILANIYOR."
   ]
  },
  {
   "cell_type": "markdown",
   "id": "69c9f063-2df6-40a0-ba76-4ed172a54c2b",
   "metadata": {},
   "source": [
    "NUMARALAR BİLE KENDİ İÇİNE VERİ TİPLERİNE AYRILABİLİYOR"
   ]
  },
  {
   "cell_type": "markdown",
   "id": "ff329ff5-9866-4d2c-aed4-3740f7959a3e",
   "metadata": {},
   "source": [
    "BURADA TYPE KOMUTU İLE BİRLİKTE HERHANGİ BİR VERİNİN TİPİNİ GÖRECĞİZ YANİ ASLINDA TYPE(10) YAZDIĞIMIZDA BİZE INTEGER YANİ TAM SAYI VERMELİ."
   ]
  },
  {
   "cell_type": "code",
   "execution_count": 37,
   "id": "38eda26a-d557-4de2-8d1e-ce133f43074b",
   "metadata": {},
   "outputs": [
    {
     "data": {
      "text/plain": [
       "int"
      ]
     },
     "execution_count": 37,
     "metadata": {},
     "output_type": "execute_result"
    }
   ],
   "source": [
    "type(10)"
   ]
  },
  {
   "cell_type": "code",
   "execution_count": 27,
   "id": "aa3fde34-0791-42a9-848a-97d6dd136d55",
   "metadata": {},
   "outputs": [
    {
     "data": {
      "text/plain": [
       "int"
      ]
     },
     "execution_count": 27,
     "metadata": {},
     "output_type": "execute_result"
    }
   ],
   "source": [
    "type(10*3)"
   ]
  },
  {
   "cell_type": "code",
   "execution_count": 28,
   "id": "bf439ab5-20ca-42c4-b8e1-3b1f9c09388a",
   "metadata": {},
   "outputs": [
    {
     "data": {
      "text/plain": [
       "int"
      ]
     },
     "execution_count": 28,
     "metadata": {},
     "output_type": "execute_result"
    }
   ],
   "source": [
    "type(age*5)"
   ]
  },
  {
   "cell_type": "code",
   "execution_count": 29,
   "id": "2ae223bc-8f10-4f60-803f-ac2d21f7109a",
   "metadata": {},
   "outputs": [],
   "source": [
    "# int --> integer demek yani tam sayı demek"
   ]
  },
  {
   "cell_type": "code",
   "execution_count": 30,
   "id": "9d84fbaf-d16c-4c67-ab0b-8745fea24b05",
   "metadata": {},
   "outputs": [],
   "source": [
    "x=-100"
   ]
  },
  {
   "cell_type": "code",
   "execution_count": 31,
   "id": "93029434-34f5-4923-a21f-9e8b48fb273c",
   "metadata": {},
   "outputs": [
    {
     "data": {
      "text/plain": [
       "int"
      ]
     },
     "execution_count": 31,
     "metadata": {},
     "output_type": "execute_result"
    }
   ],
   "source": [
    "type(x)"
   ]
  },
  {
   "cell_type": "code",
   "execution_count": 32,
   "id": "56bb2068-63c7-4b0c-8823-ec82f981b054",
   "metadata": {},
   "outputs": [
    {
     "data": {
      "text/plain": [
       "float"
      ]
     },
     "execution_count": 32,
     "metadata": {},
     "output_type": "execute_result"
    }
   ],
   "source": [
    "type(3.14)"
   ]
  },
  {
   "cell_type": "code",
   "execution_count": 33,
   "id": "da9aa074-181b-4726-8f83-871a29f26962",
   "metadata": {},
   "outputs": [],
   "source": [
    "#float -> floating point demek yani kesirli sayılar için oluşturulmuş veri tipi demek "
   ]
  },
  {
   "cell_type": "code",
   "execution_count": 34,
   "id": "5e0a3533-166f-4045-9e75-d735f38ba760",
   "metadata": {},
   "outputs": [],
   "source": [
    "pi=3.14"
   ]
  },
  {
   "cell_type": "code",
   "execution_count": 35,
   "id": "b718c154-0133-44b0-8168-d1b3fc513916",
   "metadata": {},
   "outputs": [
    {
     "data": {
      "text/plain": [
       "-96.86"
      ]
     },
     "execution_count": 35,
     "metadata": {},
     "output_type": "execute_result"
    }
   ],
   "source": [
    "x+pi"
   ]
  },
  {
   "cell_type": "code",
   "execution_count": 36,
   "id": "cc58609f-c9a8-4251-b37a-f7b16af7ead0",
   "metadata": {},
   "outputs": [
    {
     "data": {
      "text/plain": [
       "-31.84713375796178"
      ]
     },
     "execution_count": 36,
     "metadata": {},
     "output_type": "execute_result"
    }
   ],
   "source": [
    "x/pi"
   ]
  },
  {
   "cell_type": "code",
   "execution_count": 38,
   "id": "b8f86a53-1c68-4a7c-ac4b-57f463cef9e9",
   "metadata": {},
   "outputs": [],
   "source": [
    "x=10"
   ]
  },
  {
   "cell_type": "code",
   "execution_count": 39,
   "id": "8950f147-9f4c-48c0-821f-ae043d301be8",
   "metadata": {},
   "outputs": [],
   "source": [
    "x=20"
   ]
  },
  {
   "cell_type": "code",
   "execution_count": 40,
   "id": "053ac1dc-0e26-4551-95fa-0e5d3360fbae",
   "metadata": {},
   "outputs": [
    {
     "data": {
      "text/plain": [
       "30"
      ]
     },
     "execution_count": 40,
     "metadata": {},
     "output_type": "execute_result"
    }
   ],
   "source": [
    "x+10"
   ]
  },
  {
   "cell_type": "code",
   "execution_count": 42,
   "id": "9b84d978-6735-473b-b26d-d38954ec114f",
   "metadata": {},
   "outputs": [],
   "source": [
    "myFloat=1.35252155"
   ]
  },
  {
   "cell_type": "markdown",
   "id": "bfe23ecd-7cc3-4d97-894f-c4ab3c61e5df",
   "metadata": {},
   "source": [
    "myFloat ın neden böyle yazıldığını görücez"
   ]
  },
  {
   "cell_type": "code",
   "execution_count": 43,
   "id": "b3fec248-b523-4ad9-aa2e-4017995d34af",
   "metadata": {},
   "outputs": [
    {
     "data": {
      "text/plain": [
       "float"
      ]
     },
     "execution_count": 43,
     "metadata": {},
     "output_type": "execute_result"
    }
   ],
   "source": [
    "type(myFloat)"
   ]
  },
  {
   "cell_type": "markdown",
   "id": "faecf84b-121a-494c-8296-390c00e28b39",
   "metadata": {},
   "source": [
    " myFloat ın F harfi büyük ve buna camelCase yani deve gösterimi deniyor.\n",
    "ya da snake_case kullanılıyor."
   ]
  },
  {
   "cell_type": "markdown",
   "id": "c2f76b0c-2dd9-4b48-ae52-ea7868219a4d",
   "metadata": {},
   "source": [
    "yani örnek olarak myFloat ya da my_float yazılır."
   ]
  },
  {
   "cell_type": "markdown",
   "id": "388e2421-f700-4b9c-9f8f-19cbd3a43c5f",
   "metadata": {},
   "source": [
    "BÖLÜM 2 GÜN 2: VERİ TİPLERİ:\n",
    "\n",
    "11.INT vs FLOAT"
   ]
  },
  {
   "cell_type": "code",
   "execution_count": 44,
   "id": "fe6438be-0e2b-4a23-963d-c1ffa8ae1a0d",
   "metadata": {},
   "outputs": [
    {
     "data": {
      "text/plain": [
       "102.5"
      ]
     },
     "execution_count": 44,
     "metadata": {},
     "output_type": "execute_result"
    }
   ],
   "source": [
    "410/4"
   ]
  },
  {
   "cell_type": "code",
   "execution_count": 47,
   "id": "19b0e6fc-fdf7-4cec-a410-a9a082a0f02d",
   "metadata": {},
   "outputs": [
    {
     "data": {
      "text/plain": [
       "10.0"
      ]
     },
     "execution_count": 47,
     "metadata": {},
     "output_type": "execute_result"
    }
   ],
   "source": [
    "40/4"
   ]
  },
  {
   "cell_type": "markdown",
   "id": "a8736330-d503-49c6-a910-14a1f7c447e3",
   "metadata": {},
   "source": [
    "burada 40 ve 4 ayrı ayrı tam sayı olmasına rağmen sonuç bir float yani kesirli sayı geliyor. Yani aslında python kendini garantiye almış çünkü 40/4 tamsayı olmasına rağmen aslında kesirli bir sayıdır da. Yani tek bi seferde 40/4'e int 40/9'a float demek yerine direkt bölme işlemlerini float alıyor ki farklı iki veri elde edilmiş gibi durmasın çünkğ her int bir floattır\n"
   ]
  },
  {
   "cell_type": "code",
   "execution_count": 49,
   "id": "4f866d2a-54e0-4681-b37d-f53178c3a88b",
   "metadata": {},
   "outputs": [
    {
     "data": {
      "text/plain": [
       "float"
      ]
     },
     "execution_count": 49,
     "metadata": {},
     "output_type": "execute_result"
    }
   ],
   "source": [
    "type(40/4)"
   ]
  },
  {
   "cell_type": "code",
   "execution_count": 50,
   "id": "5bb7b45e-bb6c-4e72-aa5e-6425d74ffb20",
   "metadata": {},
   "outputs": [
    {
     "data": {
      "text/plain": [
       "4.444444444444445"
      ]
     },
     "execution_count": 50,
     "metadata": {},
     "output_type": "execute_result"
    }
   ],
   "source": [
    "40/9\n"
   ]
  },
  {
   "cell_type": "code",
   "execution_count": 51,
   "id": "3c4bcd08-a3c9-4518-9e98-cc973a00fff2",
   "metadata": {},
   "outputs": [
    {
     "data": {
      "text/plain": [
       "float"
      ]
     },
     "execution_count": 51,
     "metadata": {},
     "output_type": "execute_result"
    }
   ],
   "source": [
    "type(4.0)"
   ]
  },
  {
   "cell_type": "code",
   "execution_count": 52,
   "id": "3cf9ff35-81d0-4d58-ac98-98155e63380a",
   "metadata": {},
   "outputs": [
    {
     "data": {
      "text/plain": [
       "2.4000000000000004"
      ]
     },
     "execution_count": 52,
     "metadata": {},
     "output_type": "execute_result"
    }
   ],
   "source": [
    "4.4-2"
   ]
  },
  {
   "cell_type": "code",
   "execution_count": 53,
   "id": "429117e3-663d-4fd1-87ac-870645acc33c",
   "metadata": {},
   "outputs": [
    {
     "data": {
      "text/plain": [
       "-18"
      ]
     },
     "execution_count": 53,
     "metadata": {},
     "output_type": "execute_result"
    }
   ],
   "source": [
    "2-10*2"
   ]
  },
  {
   "cell_type": "markdown",
   "id": "c8ec44ce-0f02-482c-95f8-0c5e16fd2194",
   "metadata": {},
   "source": [
    "2**5"
   ]
  },
  {
   "cell_type": "code",
   "execution_count": 57,
   "id": "4fe46833-6d63-49ba-aa72-0a7d69efdd04",
   "metadata": {},
   "outputs": [
    {
     "data": {
      "text/plain": [
       "32"
      ]
     },
     "execution_count": 57,
     "metadata": {},
     "output_type": "execute_result"
    }
   ],
   "source": [
    "2**5 #üslü ifadeyi kısaca yazmak için kullanırlır **"
   ]
  },
  {
   "cell_type": "code",
   "execution_count": 56,
   "id": "9b3fe2d2-dbd3-4c6c-a585-f9cd9c520ea1",
   "metadata": {},
   "outputs": [
    {
     "data": {
      "text/plain": [
       "1"
      ]
     },
     "execution_count": 56,
     "metadata": {},
     "output_type": "execute_result"
    }
   ],
   "source": [
    "10%3 #kalanını bulmak remainder"
   ]
  }
 ],
 "metadata": {
  "kernelspec": {
   "display_name": "Python 3 (ipykernel)",
   "language": "python",
   "name": "python3"
  },
  "language_info": {
   "codemirror_mode": {
    "name": "ipython",
    "version": 3
   },
   "file_extension": ".py",
   "mimetype": "text/x-python",
   "name": "python",
   "nbconvert_exporter": "python",
   "pygments_lexer": "ipython3",
   "version": "3.11.7"
  }
 },
 "nbformat": 4,
 "nbformat_minor": 5
}
